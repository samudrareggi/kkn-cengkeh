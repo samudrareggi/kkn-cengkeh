{
 "metadata": {
  "language_info": {
   "codemirror_mode": {
    "name": "ipython",
    "version": 3
   },
   "file_extension": ".py",
   "mimetype": "text/x-python",
   "name": "python",
   "nbconvert_exporter": "python",
   "pygments_lexer": "ipython3",
   "version": "3.8.5"
  },
  "orig_nbformat": 4,
  "kernelspec": {
   "name": "python3",
   "display_name": "Python 3.8.5 64-bit"
  },
  "interpreter": {
   "hash": "31f2aee4e71d21fbe5cf8b01ff0e069b9275f58929596ceb00d14d90e3e16cd6"
  }
 },
 "nbformat": 4,
 "nbformat_minor": 2,
 "cells": [
  {
   "cell_type": "code",
   "execution_count": 16,
   "metadata": {},
   "outputs": [],
   "source": [
    "import cv2\n",
    "import numpy as np"
   ]
  },
  {
   "cell_type": "code",
   "execution_count": 17,
   "metadata": {},
   "outputs": [
    {
     "output_type": "stream",
     "name": "stdout",
     "text": [
      "[[[  0   0   0]\n  [  0   0   0]\n  [  0   0   0]\n  ...\n  [  0   0   0]\n  [  0   0   0]\n  [  0   0   0]]\n\n [[  0   0   0]\n  [255 255 255]\n  [227 182 166]\n  ...\n  [227 198 151]\n  [  0   0   0]\n  [  0   0   0]]\n\n [[  0   0   0]\n  [219 170 154]\n  [210 132 113]\n  ...\n  [216 168 107]\n  [224 194 153]\n  [  0   0   0]]\n\n ...\n\n [[255 231 194]\n  [218 177 119]\n  [225 171 100]\n  ...\n  [209 200  89]\n  [211 207 117]\n  [239 239 191]]\n\n [[  0   0   0]\n  [243 220 185]\n  [222 177 128]\n  ...\n  [212 204 114]\n  [239 239 175]\n  [  0   0   0]]\n\n [[  0   0   0]\n  [  0   0   0]\n  [240 210 195]\n  ...\n  [237 237 182]\n  [  0   0   0]\n  [  0   0   0]]]\n"
     ]
    }
   ],
   "source": [
    "image = cv2.imread('clr4.png')\n",
    "#cv2.imshow(\"Original\", image)\n",
    "print(image)"
   ]
  },
  {
   "cell_type": "code",
   "execution_count": 18,
   "metadata": {},
   "outputs": [
    {
     "output_type": "stream",
     "name": "stdout",
     "text": [
      "[161.41916666666665, 55.84669279018993]\n"
     ]
    }
   ],
   "source": [
    "bgr = cv2.cvtColor(image, cv2.COLOR_RGB2BGR)\n",
    "hsv = cv2.cvtColor(image, cv2.COLOR_BGR2HSV)\n",
    "features = [np.mean(hsv), np.std(hsv)]\n",
    "print(features)"
   ]
  }
 ]
}